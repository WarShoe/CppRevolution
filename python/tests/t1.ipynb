{
 "cells": [
  {
   "cell_type": "code",
   "execution_count": 1,
   "id": "c04b9ba7-f5b1-4af7-9e51-131ee45554fa",
   "metadata": {},
   "outputs": [],
   "source": [
    "import sys\n",
    "sys.path.append('/Users/zvyagin/Projects/cpp-numerics/build/python')\n",
    "import numerics_py as nf"
   ]
  },
  {
   "cell_type": "code",
   "execution_count": 2,
   "id": "7390679f-1b67-43c1-86fc-fb9f56597c33",
   "metadata": {},
   "outputs": [
    {
     "name": "stdout",
     "output_type": "stream",
     "text": [
      "(Call,Put) option prices: (71.18312286330693, 91.18312286330693)\n"
     ]
    }
   ],
   "source": [
    "stock = 100\n",
    "strike = 120\n",
    "sigma = 1\n",
    "time = 5\n",
    "discount=1\n",
    "print('(Call,Put) option prices:',nf.Black76(stock,strike,sigma,time,discount))"
   ]
  },
  {
   "cell_type": "code",
   "execution_count": 3,
   "id": "15990530-f425-423f-b3a0-23d741d83fb4",
   "metadata": {},
   "outputs": [
    {
     "name": "stdout",
     "output_type": "stream",
     "text": [
      "Only Call price: 71.18312286330693\n"
     ]
    }
   ],
   "source": [
    "call_price = nf.Black76(stock,strike,sigma,time,discount,nf.Type.Call)\n",
    "print('Only Call price:',call_price)"
   ]
  },
  {
   "cell_type": "code",
   "execution_count": 4,
   "id": "604b39a3-a262-4798-81cf-0aa1070b66e8",
   "metadata": {},
   "outputs": [
    {
     "name": "stdout",
     "output_type": "stream",
     "text": [
      "Only Put price: 91.18312286330693\n"
     ]
    }
   ],
   "source": [
    "put_price = nf.Black76(stock,strike,sigma,time,discount,nf.Type.Put)\n",
    "print('Only Put price:',put_price)"
   ]
  },
  {
   "cell_type": "markdown",
   "id": "cb7c5957-cde5-4a41-8d12-7f1830494c39",
   "metadata": {
    "tags": []
   },
   "source": [
    "# Bug"
   ]
  },
  {
   "cell_type": "markdown",
   "id": "8d77f638-92a9-49c7-ba16-fba6a933ec4b",
   "metadata": {},
   "source": [
    "If we start with *vol_start=6e-2*, the code fails, but the number reported does not tell us about the failuer:"
   ]
  },
  {
   "cell_type": "code",
   "execution_count": 5,
   "id": "b76cbd18-1799-4005-8d1f-87c546bfd3de",
   "metadata": {},
   "outputs": [
    {
     "name": "stdout",
     "output_type": "stream",
     "text": [
      "Expected sigma: 1  Computed sigma=0.0001\n"
     ]
    }
   ],
   "source": [
    "vol_start = 6e-2\n",
    "vol_lo = 1e-4\n",
    "vol_hi = 10\n",
    "price_tolerance = 1e-5\n",
    "ivol = nf.Black76_ivol(call_price,nf.Call,stock,strike,time,discount,vol_start,vol_lo,vol_hi,price_tolerance)\n",
    "print(f'Expected sigma: {sigma}  Computed sigma={ivol}')"
   ]
  },
  {
   "cell_type": "markdown",
   "id": "b9b39713-64a8-46ae-94d1-cf9e44afba0f",
   "metadata": {},
   "source": [
    "If we start with *vol_start=8e-2*, the code works:"
   ]
  },
  {
   "cell_type": "code",
   "execution_count": 6,
   "id": "25238309-a520-49ef-97c2-10f515424e75",
   "metadata": {},
   "outputs": [
    {
     "name": "stdout",
     "output_type": "stream",
     "text": [
      "Expected sigma: 1  Computed sigma=1.0000000012113273\n"
     ]
    }
   ],
   "source": [
    "vol_start = 8e-2\n",
    "vol_lo = 1e-4\n",
    "vol_hi = 10\n",
    "price_tolerance = 1e-5\n",
    "ivol = nf.Black76_ivol(call_price,nf.Call,stock,strike,time,discount,vol_start,vol_lo,vol_hi,price_tolerance)\n",
    "print(f'Expected sigma: {sigma}  Computed sigma={ivol}')"
   ]
  },
  {
   "cell_type": "markdown",
   "id": "9d6c2f58-166c-441e-9c0b-7f860d7d4b3d",
   "metadata": {},
   "source": [
    "## Example with default arguments"
   ]
  },
  {
   "cell_type": "code",
   "execution_count": 7,
   "id": "89f7bf9b-7c57-434c-888b-bad7e3ef2772",
   "metadata": {},
   "outputs": [
    {
     "name": "stdout",
     "output_type": "stream",
     "text": [
      "call_price=71.18312286330693 Expected sigma: 1  Computed sigma=1.0\n"
     ]
    }
   ],
   "source": [
    "ivol_call = nf.Black76_ivol(call_price,nf.Call,stock,strike,time,discount)\n",
    "print(f'call_price={call_price} Expected sigma: {sigma}  Computed sigma={ivol_call}')"
   ]
  },
  {
   "cell_type": "code",
   "execution_count": 8,
   "id": "dc2cd687-656c-40cb-90c4-beb2d6bcd15b",
   "metadata": {},
   "outputs": [
    {
     "name": "stdout",
     "output_type": "stream",
     "text": [
      "put_price=91.18312286330693 Expected sigma: 1  Computed sigma=1.0\n"
     ]
    }
   ],
   "source": [
    "ivol_put = nf.Black76_ivol(put_price,nf.Put,stock,strike,time,discount)\n",
    "print(f'put_price={put_price} Expected sigma: {sigma}  Computed sigma={ivol_put}')"
   ]
  },
  {
   "cell_type": "code",
   "execution_count": 9,
   "id": "211a41b1-9f98-46c8-8c13-e8c92106afa7",
   "metadata": {},
   "outputs": [
    {
     "name": "stdout",
     "output_type": "stream",
     "text": [
      "difference: 0.0\n"
     ]
    }
   ],
   "source": [
    "print(f'difference: {ivol_call-ivol_put}')"
   ]
  },
  {
   "cell_type": "code",
   "execution_count": 10,
   "id": "11bb02df-9089-499d-9ed7-333e24e7423b",
   "metadata": {},
   "outputs": [
    {
     "name": "stdout",
     "output_type": "stream",
     "text": [
      "Help on built-in function Bachelier in module numerics_py:\n",
      "\n",
      "Bachelier(...) method of builtins.PyCapsule instance\n",
      "    Bachelier(*args, **kwargs)\n",
      "    Overloaded function.\n",
      "    \n",
      "    1. Bachelier(arg0: float, arg1: float, arg2: float, arg3: float, arg4: float) -> Tuple[float, float]\n",
      "    \n",
      "    This is my help!\n",
      "    \n",
      "    2. Bachelier(arg0: float, arg1: float, arg2: float, arg3: float, arg4: float, arg5: numerics_py.Type) -> float\n",
      "\n"
     ]
    }
   ],
   "source": [
    "help(nf.Bachelier)"
   ]
  },
  {
   "cell_type": "code",
   "execution_count": null,
   "id": "32140e00-09a8-462f-9b39-79ef00628b44",
   "metadata": {},
   "outputs": [],
   "source": []
  }
 ],
 "metadata": {
  "kernelspec": {
   "display_name": "Python 3 (ipykernel)",
   "language": "python",
   "name": "python3"
  },
  "language_info": {
   "codemirror_mode": {
    "name": "ipython",
    "version": 3
   },
   "file_extension": ".py",
   "mimetype": "text/x-python",
   "name": "python",
   "nbconvert_exporter": "python",
   "pygments_lexer": "ipython3",
   "version": "3.9.7"
  }
 },
 "nbformat": 4,
 "nbformat_minor": 5
}
